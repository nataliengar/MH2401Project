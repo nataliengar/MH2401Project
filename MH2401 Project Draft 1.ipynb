{
 "cells": [
  {
   "cell_type": "code",
   "execution_count": 1,
   "metadata": {},
   "outputs": [],
   "source": [
    "import numpy as np\n",
    "import networkx as nx\n",
    "import random as random\n",
    "import matplotlib.pyplot as plt"
   ]
  },
  {
   "cell_type": "markdown",
   "metadata": {},
   "source": [
    "# Abstract"
   ]
  },
  {
   "cell_type": "markdown",
   "metadata": {},
   "source": [
    "This work aims to find the 'best fit' model for a given Facebook network (available at https://snap.stanford.edu/data/ego-Facebook.html). Through analysis of the Erdős–Rényi model, Watts-Strogatz model, Barabási–Albert model, Mediation-Driven Attachement model, and UNKNOWN model, we determined that CHOICE model best models the Facebook network. Next, we "
   ]
  },
  {
   "cell_type": "markdown",
   "metadata": {},
   "source": [
    "# Overview of Random Networks"
   ]
  },
  {
   "cell_type": "code",
   "execution_count": null,
   "metadata": {},
   "outputs": [],
   "source": []
  },
  {
   "cell_type": "markdown",
   "metadata": {},
   "source": [
    "## Erdös-Rényi Model"
   ]
  },
  {
   "cell_type": "code",
   "execution_count": null,
   "metadata": {},
   "outputs": [],
   "source": []
  },
  {
   "cell_type": "markdown",
   "metadata": {},
   "source": [
    "## Watts-Strogatz Model"
   ]
  },
  {
   "cell_type": "code",
   "execution_count": null,
   "metadata": {},
   "outputs": [],
   "source": []
  },
  {
   "cell_type": "markdown",
   "metadata": {},
   "source": [
    "## Barabási-Albert Model"
   ]
  },
  {
   "cell_type": "code",
   "execution_count": null,
   "metadata": {},
   "outputs": [],
   "source": []
  },
  {
   "cell_type": "markdown",
   "metadata": {},
   "source": [
    "## Mediation-Driven Attachment Model"
   ]
  },
  {
   "cell_type": "code",
   "execution_count": 2,
   "metadata": {
    "scrolled": false
   },
   "outputs": [
    {
     "data": {
      "text/plain": [
       "<function matplotlib.pyplot.show>"
      ]
     },
     "execution_count": 2,
     "metadata": {},
     "output_type": "execute_result"
    },
    {
     "data": {
      "image/png": "[encoded data removed]",
      "text/plain": [
       "<matplotlib.figure.Figure at 0x107de57f0>"
      ]
     },
     "metadata": {},
     "output_type": "display_data"
    }
   ],
   "source": [
    "def MDA(n_init, m, n):\n",
    "    A = np.triu(1 * (np.random.rand(n_init,n_init) < 0.6), 1)\n",
    "    A = np.mat(A + A.T)\n",
    "    G = nx.Graph(A)\n",
    "\n",
    "    while len(G) != n:    \n",
    "        ## Choose a random node to be mediator\n",
    "        node_choice = random.randint(0,len(G)-1)\n",
    "        \n",
    "        ## Find its neighbours, then randomly choose m of them\n",
    "        neighbours = [i for i in G.neighbors(node_choice)]\n",
    "        neighbour_choices = random.sample(neighbours, m)\n",
    "        \n",
    "        ## Add m edges from new node to choices\n",
    "        G.add_node(n_init)\n",
    "        G.add_edges_from([(n_init,i) for i in neighbour_choices])\n",
    "        n_init +=1\n",
    "        \n",
    "    return G\n",
    "    \n",
    "#nx.draw(MDA(50, 14, 100), node_size = 50, node_color = 'blue', alpha = 0.2, edge_color = 'green')\n",
    "#plt.show()\n",
    "\n",
    "vertex_degrees = list(dict(nx.degree(MDA(50,14,150))).values())\n",
    "plt.hist(vertex_degrees, facecolor='blue', alpha=0.75, rwidth=0.75)\n",
    "plt.grid(False)\n",
    "plt.show\n"
   ]
  },
  {
   "cell_type": "markdown",
   "metadata": {},
   "source": [
    "## UNKNOWN Model"
   ]
  },
  {
   "cell_type": "code",
   "execution_count": null,
   "metadata": {},
   "outputs": [],
   "source": []
  },
  {
   "cell_type": "code",
   "execution_count": null,
   "metadata": {},
   "outputs": [],
   "source": []
  },
  {
   "cell_type": "markdown",
   "metadata": {},
   "source": [
    "# Loading Facebook into Python"
   ]
  },
  {
   "cell_type": "code",
   "execution_count": 5,
   "metadata": {},
   "outputs": [],
   "source": [
    "B = np.loadtxt(\"facebook_combined.txt\")\n",
    "H = nx.Graph()\n",
    "H.add_edges_from(B)"
   ]
  },
  {
   "cell_type": "code",
   "execution_count": 6,
   "metadata": {},
   "outputs": [],
   "source": [
    "def print_network_chars(G):\n",
    "    vertex_degrees = list(dict(nx.degree(G)).values())\n",
    "    plt.hist(vertex_degrees, \n",
    "         bins = np.linspace(np.min(vertex_degrees),\n",
    "                          1 + np.max(vertex_degrees), 20),\n",
    "         facecolor='blue', alpha=0.75, rwidth = 0.9) \n",
    "    plt.title(\"Vertex degree distribution\")\n",
    "    plt.grid(True)\n",
    "    plt.show()\n",
    "    n = nx.number_of_nodes(G)\n",
    "    m = nx.number_of_edges(G)\n",
    "    CC = nx.average_clustering(G)\n",
    "    print(\"|V| =\", n)\n",
    "    print(\"|E| =\", m)\n",
    "    print(\"Average degree is\", 2 * m / n)\n",
    "    print(\"CC =\", CC)\n",
    "    return None"
   ]
  },
  {
   "cell_type": "code",
   "execution_count": 9,
   "metadata": {},
   "outputs": [
    {
     "data": {
      "image/png": "[encoded data removed]",
      "text/plain": [
       "<matplotlib.figure.Figure at 0x1521587278>"
      ]
     },
     "metadata": {},
     "output_type": "display_data"
    },
    {
     "name": "stdout",
     "output_type": "stream",
     "text": [
      "|V| = 4039\n",
      "|E| = 65686\n",
      "Average degree is 32.52587274077742\n",
      "CC = 0.20162129408840185\n"
     ]
    },
    {
     "data": {
      "image/png": "[encoded data removed]",
      "text/plain": [
       "<matplotlib.figure.Figure at 0x1521587438>"
      ]
     },
     "metadata": {},
     "output_type": "display_data"
    },
    {
     "name": "stdout",
     "output_type": "stream",
     "text": [
      "|V| = 4039\n",
      "|E| = 88234\n",
      "Average degree is 43.69101262688784\n",
      "CC = 0.6055467186200876\n"
     ]
    }
   ],
   "source": [
    "print_network_chars(MDA(200,14,4039))\n",
    "print_network_chars(H)"
   ]
  },
  {
   "cell_type": "code",
   "execution_count": null,
   "metadata": {},
   "outputs": [],
   "source": []
  }
 ],
 "metadata": {
  "kernelspec": {
   "display_name": "Python 3",
   "language": "python",
   "name": "python3"
  },
  "language_info": {
   "codemirror_mode": {
    "name": "ipython",
    "version": 3
   },
   "file_extension": ".py",
   "mimetype": "text/x-python",
   "name": "python",
   "nbconvert_exporter": "python",
   "pygments_lexer": "ipython3",
   "version": "3.6.4"
  },
  "toc": {
   "base_numbering": 1,
   "nav_menu": {},
   "number_sections": true,
   "sideBar": true,
   "skip_h1_title": false,
   "title_cell": "Table of Contents",
   "title_sidebar": "Contents",
   "toc_cell": false,
   "toc_position": {
    "height": "calc(100% - 180px)",
    "left": "10px",
    "top": "150px",
    "width": "336px"
   },
   "toc_section_display": true,
   "toc_window_display": true
  }
 },
 "nbformat": 4,
 "nbformat_minor": 2
}
